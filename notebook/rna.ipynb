{
 "cells": [
  {
   "cell_type": "code",
   "execution_count": 2,
   "metadata": {},
   "outputs": [],
   "source": [
    "# imports\n",
    "import numpy as np\n",
    "import random\n",
    "import io"
   ]
  },
  {
   "cell_type": "code",
   "execution_count": 4,
   "metadata": {},
   "outputs": [],
   "source": [
    "class RNA():\n",
    "    def __init__(self, bias=False, momentum=False, learning_rate=0.5, sigmoid=True):\n",
    "        self.bias = bias\n",
    "        self.momentum = momentum\n",
    "        self.learning_rate = learning_rate\n",
    "        self.sigmoid = sigmoid\n",
    "\n",
    "    def sigmoid(self, soma):\n",
    "        return 1 / (1 + np.exp(-soma))\n",
    "\n",
    "    def sigmoidDerivate(self, sig):\n",
    "        return sig * (1 - sig)\n",
    "\n",
    "    def treinar(self):\n",
    "        pass\n",
    "\n",
    "    def testar(self):\n",
    "        pass"
   ]
  },
  {
   "cell_type": "code",
   "execution_count": 9,
   "metadata": {},
   "outputs": [],
   "source": [
    "class Data():\n",
    "    def __init__(self):\n",
    "        self.header = 0\n",
    "        self.data = 0\n",
    "        self.output = 0\n",
    "        self.train = 0\n",
    "        self.test = 0\n",
    "        self.train_out = 0\n",
    "        self.test_out = 0\n",
    "\n",
    "    def ready(self, path='dataset/fertility.csv', train_percent=80):\n",
    "        data = np.loadtxt(path, dtype=str, delimiter=',')\n",
    "        self.header, data = np.array_split(data, [1])\n",
    "        data, self.output = np.array_split(data, [9], axis=1)\n",
    "        self.data = data.astype(np.float)\n",
    "\n",
    "        self.train = self.data[:train_percent]\n",
    "        self.test = self.data[train_percent:]\n",
    "        self.train_out = self.output[:train_percent]\n",
    "        self.test_out = self.output[train_percent:]\n",
    "\n"
   ]
  },
  {
   "cell_type": "code",
   "execution_count": null,
   "metadata": {},
   "outputs": [],
   "source": []
  },
  {
   "cell_type": "code",
   "execution_count": null,
   "metadata": {},
   "outputs": [],
   "source": []
  }
 ],
 "metadata": {
  "kernelspec": {
   "display_name": "Python 3",
   "language": "python",
   "name": "python3"
  },
  "language_info": {
   "codemirror_mode": {
    "name": "ipython",
    "version": 3
   },
   "file_extension": ".py",
   "mimetype": "text/x-python",
   "name": "python",
   "nbconvert_exporter": "python",
   "pygments_lexer": "ipython3",
   "version": "3.4.3"
  }
 },
 "nbformat": 4,
 "nbformat_minor": 2
}
